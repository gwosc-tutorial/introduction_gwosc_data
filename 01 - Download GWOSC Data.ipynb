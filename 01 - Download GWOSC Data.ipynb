{
 "cells": [
  {
   "cell_type": "markdown",
   "id": "161ee01d-b10a-4a63-a7d4-71c91252af94",
   "metadata": {},
   "source": [
    "# Tutorial Step 1: Download GWOSC Data"
   ]
  },
  {
   "cell_type": "markdown",
   "id": "d3a8040f-e3a7-4bf0-a33d-f96f32a3a86a",
   "metadata": {},
   "source": [
    "Before we begin, let's outline the content of the tutorials:\n",
    "  - Notebook 1 explains how to download data from the GWOSC website.\n",
    "  - Notebook 2 presents details about reading the content of a file.\n",
    "  - Notebook 3 presents quality flags, an important concept when working with gravitational wave data.\n",
    "  - Notebook 4 presents another important concept for gravitational wave data, the frequency domain.\n",
    "  - Notebook 5 presents a higher-level interface that hides many details to provide an easier access to the data."
   ]
  },
  {
   "cell_type": "markdown",
   "id": "d6960adf-5d87-4190-b147-6c7168efade2",
   "metadata": {},
   "source": [
    "If you want to understand the details about GWOSC files, simply run the tutorials in order\n",
    "If you're comfortable with python and don't want to bother about the details, go directly to [notebook 5](<05 - GWpy Examples.ipynb>)."
   ]
  },
  {
   "cell_type": "markdown",
   "id": "fb248a57-3677-470e-af25-5c2c7f5cd7a1",
   "metadata": {},
   "source": [
    "This tutorial will show you how to download data from the [GWOSC website](https://gwosc.org)."
   ]
  },
  {
   "cell_type": "markdown",
   "id": "0fb74b90-cb21-423b-804a-68bdbb02d600",
   "metadata": {},
   "source": [
    "## Browse available data sets"
   ]
  },
  {
   "cell_type": "markdown",
   "id": "87c10a1b-e2e6-4746-92fc-a2aba42f0782",
   "metadata": {},
   "source": [
    "Go to the [GWOSC website](https://gwosc.org/) and open \"Get Data\" in the menu bar and then click on \"Download\".\n",
    "The [Observatory Data Sets](https://gwosc.org/data/) page will display the list of data sets."
   ]
  },
  {
   "cell_type": "markdown",
   "id": "330c161e-4554-42f7-aab3-94349848dddf",
   "metadata": {},
   "source": [
    "## Use timelines to show times of available data"
   ]
  },
  {
   "cell_type": "markdown",
   "id": "f5cc0c97-c8e3-4d2c-9bf9-a6fe8c338655",
   "metadata": {},
   "source": [
    "Data for the LVK detectors is only publicly available during times when the detectors were operating under normal conditions, labeled with the DATA flag (i.e. DATA is available at this time).\n",
    "The GWOSC Timelines provide a convenient, graphical tool for discovering times when detectors were collecting data."
   ]
  },
  {
   "cell_type": "markdown",
   "id": "4b1cee7e-9322-44ad-a026-be9ba2c77ca7",
   "metadata": {},
   "source": [
    "Let's start by looking at the DATA Timeline for H1 during the Second Part of the Third Observing Run (O3b):\n",
    "  - On the [Observatory Data Sets](https://gwosc.org/data/) page, find the \"O3b\" Data Release.\n",
    "  - Click the [Timeline icon](https://gwosc.org/timeline/show/O3b_16KHZ_R1/H1_DATA*L1_DATA*V1_DATA/1256655618/12708000/). You should see plots like this: ![timeline](./img/timeline.png)"
   ]
  },
  {
   "cell_type": "markdown",
   "id": "b11af507-ece1-48d7-ac79-0af43ffecccd",
   "metadata": {},
   "source": [
    "Here are some notes to help understand the GWOSC Timelines:\n",
    "  - The label on the far left indicates which instrument is represented in the plot. In this example, H1 corresponds to the \"Hanford One\" detector.\n",
    "  - The curve shows if the detector was collecting data at this particular time: a vertical bar indicates that the detector collects data while the absence of a bar indicates that the detector was not collecting data.\n",
    "  - This data set spans the Second Part of the Third Observing Run (O3b) i.e. from 2019-11-01T15:00:00 UTC (GPS=1256655618) to 2020-03-27T17:00:00 UTC (GPS=1269363618).\n",
    "  - You can use your mouse to zoom and pan the graphs and download the figure as an image on your computer by clicking on the \"...\" icon in the top-right corner of the plot."
   ]
  },
  {
   "cell_type": "markdown",
   "id": "259f218c-a25c-490e-be1c-92999fb5d2cc",
   "metadata": {},
   "source": [
    "## Download data files from the data archive"
   ]
  },
  {
   "cell_type": "markdown",
   "id": "76448730-607d-4628-8b2f-01ff33179492",
   "metadata": {},
   "source": [
    "Now that we've got some idea when data is available, let's get the actual data files.\n",
    "We'll try to find data for the month of January 2020.\n",
    "We can query the O3b archive for the data we want:\n",
    "\n",
    "  - Click the \"Get Data\" link in the menu bar and then on \"Download\".\n",
    "  - Under \"O3b Data Release\", click the \"4 kHz Data\" icon:\n",
    "\n",
    "    - Use the radio buttons to select \"H1\".\n",
    "    - In the web form, enter the dates 2020-01-01T00:00:00 UTC (GPS=1261872018) and 2020-01-31T23:59:59 UTC (GPS=1264550417).\n",
    "    - Then, click the continue button."
   ]
  },
  {
   "cell_type": "markdown",
   "id": "624cfda2-69a3-4077-86eb-9acfef468bdb",
   "metadata": {},
   "source": [
    "As you can see, we use the GPS time.\n",
    "To find the GPS time of a specific UTC time (or vice-versa), you can use the [time conversion tool](https://gwosc.org/gps/)."
   ]
  },
  {
   "cell_type": "markdown",
   "id": "d54f5e15-42aa-460e-920f-f10ba85600ba",
   "metadata": {},
   "source": [
    "This will query the database for data files between the entered dates.\n",
    "You should see a list that looks like this: ![archive content](./img/archive_content.png)"
   ]
  },
  {
   "cell_type": "markdown",
   "id": "df489ce1-4b2d-4717-949f-223426b085cd",
   "metadata": {},
   "source": [
    "Each line of the table corresponds to a data file (or tile) covering 4096 seconds of calendar time.\n",
    "A given instrument may be up or down for any fraction of that time, and the far right column shows what percentage of the 4096 seconds contains science mode data."
   ]
  },
  {
   "cell_type": "markdown",
   "id": "521f0bc7-ff7d-49b8-bcbc-e7ed395f939b",
   "metadata": {},
   "source": [
    "Let's download one data file, which we'll use for the rest of this tutorial.\n",
    "Since we want a file with mostly Science Mode data, let's download the file that starts at GPS time 1264312320."
   ]
  },
  {
   "cell_type": "markdown",
   "id": "10c057f4-7d83-4bd3-979d-3d72a172142f",
   "metadata": {},
   "source": [
    "To download the file, just click the link in the column under the heading \"HDF5\".\n",
    "The downloaded file should be named `H-H1_GWOSC_O3b_4KHZ_R1-1264312320-4096.hdf5`."
   ]
  },
  {
   "cell_type": "markdown",
   "id": "627f477a-6150-4bfd-8b1b-bf93cc8e98f4",
   "metadata": {},
   "source": [
    "<div class=\"alert alert-block alert-warning\">\n",
    "<div><b>&#9888; Warning</b></div>\n",
    "    After the download completes, move the file in the directory where the notebooks are stored.\n",
    "    If you use Binder or Colab to run the notebooks, upload this file to the Binder/Colab instance.\n",
    "    Alternatively, next section will show you how to programmatically download this file in the current folder.\n",
    "</div>"
   ]
  },
  {
   "cell_type": "markdown",
   "id": "cf5211f5-aaa3-4155-8489-5b8d78e3a7ca",
   "metadata": {},
   "source": [
    "## Programmatic download"
   ]
  },
  {
   "cell_type": "markdown",
   "id": "0c1c18fe-ee5b-46a7-a363-323b8e9a196c",
   "metadata": {},
   "source": [
    "It's possible to interact with the GWOSC website using python code.\n",
    "By creating dedicated web requests, it is possible to get the information in a form usable by the program.\n",
    "You might have recognized what is known as a web API (if you're not familiar with this concept, don't pay attention to it for now)."
   ]
  },
  {
   "cell_type": "markdown",
   "id": "a82f9396-5918-4cce-ad03-3ad949e2a00f",
   "metadata": {},
   "source": [
    "In the following example, we are going to show how to download the same file with web requests.\n",
    "For this, we use the [requests python package](https://requests.readthedocs.io/en/latest/) which allows to send requests to the server in a simple way."
   ]
  },
  {
   "cell_type": "markdown",
   "id": "1275d553-8f32-4e8d-993d-ad165602ea1b",
   "metadata": {},
   "source": [
    "First let's define a function that will return the list of strain files between 2 GPS times for a given run and detector."
   ]
  },
  {
   "cell_type": "code",
   "execution_count": 1,
   "id": "05f420e4-c63e-4156-a5ba-ea911ff0dbf8",
   "metadata": {},
   "outputs": [],
   "source": [
    "import requests\n",
    "\n",
    "\n",
    "def fetch_strain_list(run, detector, gps_start, gps_end):\n",
    "    \"Return the list of strain file info for `run` and `detector`.\"\n",
    "\n",
    "    # Get the strain list\n",
    "    fetch_url = (\n",
    "        f\"https://gwosc.org/archive/links/\"\n",
    "        f\"{run}/{detector}/{gps_start}/{gps_end}/json/\"\n",
    "    )\n",
    "    response = requests.get(fetch_url)\n",
    "    response.raise_for_status()\n",
    "    return response.json()[\"strain\"]"
   ]
  },
  {
   "cell_type": "markdown",
   "id": "b964ef1d-5f27-406c-8307-3206e861fe02",
   "metadata": {},
   "source": [
    "Now let's use this with the same GPS times as before:"
   ]
  },
  {
   "cell_type": "code",
   "execution_count": 2,
   "id": "ac2cff80-6339-43a1-aa69-aea860b9abe0",
   "metadata": {},
   "outputs": [
    {
     "name": "stdout",
     "output_type": "stream",
     "text": [
      "Found 1062 files\n",
      "[{'GPSstart': 1261965312, 'UTCstart': '2020-01-02T01:54:54', 'detector': 'H1', 'sampling_rate': 4096, 'duration': 4096, 'format': 'hdf5', 'url': 'http://gwosc.org/archive/data/O3b_4KHZ_R1/1261436928/H-H1_GWOSC_O3b_4KHZ_R1-1261965312-4096.hdf5', 'min_strain': -5.393283677409768e-19, 'max_strain': 4.920883533490361e-19, 'mean_strain': 5.0291205486927025e-25, 'stdev_strain': 9.167596975962463e-20, 'duty_cycle': 91.2353515625, 'BLRMS200': 5.472092079816551e-24, 'BLRMS1000': 1.9148069663502894e-21, 'BNS': 106.15558044159869}, {'GPSstart': 1261965312, 'UTCstart': '2020-01-02T01:54:54', 'detector': 'H1', 'sampling_rate': 4096, 'duration': 4096, 'format': 'gwf', 'url': 'http://gwosc.org/archive/data/O3b_4KHZ_R1/1261436928/H-H1_GWOSC_O3b_4KHZ_R1-1261965312-4096.gwf', 'min_strain': -5.393283677409768e-19, 'max_strain': 4.920883533490361e-19, 'mean_strain': 5.0291205486927025e-25, 'stdev_strain': 9.167596975962463e-20, 'duty_cycle': 91.2353515625, 'BLRMS200': 5.472092079816551e-24, 'BLRMS1000': 1.9148069663502894e-21, 'BNS': 106.15558044159869}, {'GPSstart': 1261969408, 'UTCstart': '2020-01-02T03:03:10', 'detector': 'H1', 'sampling_rate': 4096, 'duration': 4096, 'format': 'hdf5', 'url': 'http://gwosc.org/archive/data/O3b_4KHZ_R1/1261436928/H-H1_GWOSC_O3b_4KHZ_R1-1261969408-4096.hdf5', 'min_strain': -1.0872052008159058e-18, 'max_strain': 7.528108165794846e-19, 'mean_strain': -3.360201862658424e-26, 'stdev_strain': 8.536262548926934e-20, 'duty_cycle': 100.0, 'BLRMS200': 5.545965475907727e-24, 'BLRMS1000': 7.69529719587077e-23, 'BNS': 102.93532554352458}, {'GPSstart': 1261969408, 'UTCstart': '2020-01-02T03:03:10', 'detector': 'H1', 'sampling_rate': 4096, 'duration': 4096, 'format': 'gwf', 'url': 'http://gwosc.org/archive/data/O3b_4KHZ_R1/1261436928/H-H1_GWOSC_O3b_4KHZ_R1-1261969408-4096.gwf', 'min_strain': -1.0872052008159058e-18, 'max_strain': 7.528108165794846e-19, 'mean_strain': -3.360201862658424e-26, 'stdev_strain': 8.536262548926934e-20, 'duty_cycle': 100.0, 'BLRMS200': 5.545965475907727e-24, 'BLRMS1000': 7.69529719587077e-23, 'BNS': 102.93532554352458}, {'GPSstart': 1261973504, 'UTCstart': '2020-01-02T04:11:26', 'detector': 'H1', 'sampling_rate': 4096, 'duration': 4096, 'format': 'hdf5', 'url': 'http://gwosc.org/archive/data/O3b_4KHZ_R1/1261436928/H-H1_GWOSC_O3b_4KHZ_R1-1261973504-4096.hdf5', 'min_strain': -4.478701056883252e-18, 'max_strain': 3.9947602250228475e-18, 'mean_strain': -9.038811641864178e-26, 'stdev_strain': 9.13362055400279e-20, 'duty_cycle': 100.0, 'BLRMS200': 5.702055376842866e-24, 'BLRMS1000': 7.662834284415618e-23, 'BNS': 99.01728247565953}]\n"
     ]
    }
   ],
   "source": [
    "strain_files = fetch_strain_list(\"O3b_4KHZ_R1\", \"H1\", 1261872018, 1264550417)\n",
    "print(f\"Found {len(strain_files)} files\")\n",
    "print(strain_files[0:5])"
   ]
  },
  {
   "cell_type": "markdown",
   "id": "999100a1-cf91-44af-a79a-e8af303b120f",
   "metadata": {},
   "source": [
    "Take some time to inspect the `strain_files` variable.\n",
    "You will see that it contains the same data than the table above."
   ]
  },
  {
   "cell_type": "markdown",
   "id": "52fad84e-9a6a-4bff-843e-669f2888bbdd",
   "metadata": {},
   "source": [
    "To find the HDF5 file starting at GPS time 1264312320, we can proceed as follows:"
   ]
  },
  {
   "cell_type": "code",
   "execution_count": 3,
   "id": "99173107-75f3-4313-99b9-e7f730e2722c",
   "metadata": {},
   "outputs": [
    {
     "name": "stdout",
     "output_type": "stream",
     "text": [
      "Downloading http://gwosc.org/archive/data/O3b_4KHZ_R1/1263534080/H-H1_GWOSC_O3b_4KHZ_R1-1264312320-4096.hdf5\n"
     ]
    }
   ],
   "source": [
    "def download_strain_file(download_url):\n",
    "    \"Download the strain file on the given url and save to disk.\"\n",
    "    # In the next line I parse the file name from the download url.\n",
    "    # Ideally, the file name should be grabbed from the\n",
    "    # Content-Disposition response header.\n",
    "    filename = download_url.split(\"/\")[-1]\n",
    "    with requests.get(download_url, stream=True) as r:\n",
    "        r.raise_for_status()\n",
    "        with open(filename, \"wb\") as f:\n",
    "            for chunk in r.iter_content(chunk_size=8192):\n",
    "                f.write(chunk)\n",
    "    return filename\n",
    "\n",
    "\n",
    "for a_file in strain_files:\n",
    "    if a_file[\"GPSstart\"] == 1264312320 and a_file[\"format\"] == \"hdf5\":\n",
    "        print(f\"Downloading {a_file['url']}\")\n",
    "        fname = download_strain_file(a_file[\"url\"])"
   ]
  },
  {
   "cell_type": "markdown",
   "id": "cb821240-7251-4641-a547-e01913d5d0ce",
   "metadata": {},
   "source": [
    "The file should be downloaded in the current folder."
   ]
  },
  {
   "cell_type": "markdown",
   "id": "b498f47a-6806-4396-bc55-c795355e5368",
   "metadata": {},
   "source": [
    "<div class=\"alert alert-block alert-warning\">\n",
    "<div><b>&#9888; Warning</b></div>\n",
    "    You could be tempted to use such code to mass-download the data by looping on all the files.\n",
    "    However, this would induce a high load on the GWOSC servers and will usually fail due to various network glitches.\n",
    "    Therefore remember that with great power comes great responsibility and don't do this.\n",
    "    If you want to download a large amount of data, have a look at <a href=\"https://gwosc.org/cvmfs/\">CVMFS</a>.\n",
    "</div>"
   ]
  },
  {
   "cell_type": "markdown",
   "id": "48ebcc8c-739a-4621-b2ac-2b9fc2bf118e",
   "metadata": {},
   "source": [
    "## What's next?"
   ]
  },
  {
   "cell_type": "markdown",
   "id": "08cfd343-6f18-4684-9f71-488236ba2166",
   "metadata": {},
   "source": [
    "In the [next step](<02 - What's in a GWOSC Data File.ipynb>), you will learn how gravitational wave data are stored in this file."
   ]
  }
 ],
 "metadata": {
  "kernelspec": {
   "display_name": "Python 3 (ipykernel)",
   "language": "python",
   "name": "python3"
  },
  "language_info": {
   "codemirror_mode": {
    "name": "ipython",
    "version": 3
   },
   "file_extension": ".py",
   "mimetype": "text/x-python",
   "name": "python",
   "nbconvert_exporter": "python",
   "pygments_lexer": "ipython3",
   "version": "3.12.7"
  }
 },
 "nbformat": 4,
 "nbformat_minor": 5
}
